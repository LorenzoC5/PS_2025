{
 "cells": [
  {
   "cell_type": "markdown",
   "id": "1da017c0",
   "metadata": {},
   "source": [
    "# Phineas e Ferb estão novamente tramando novas engenhocas para aumentar a diversão de suas férias "
   ]
  },
  {
   "cell_type": "markdown",
   "id": "6aed0159-727b-4c3c-bc22-6d4afece3be9",
   "metadata": {},
   "source": [
    "![Imagem do Phineas e Ferb](https://raw.githubusercontent.com/dudasabino/imagem/refs/heads/main/Ferb%2C%20j%C3%A1%20sei%20o%20que%20vamos%20fazer%20hoje!.png)"
   ]
  },
  {
   "cell_type": "markdown",
   "id": "9f2ed588-501b-4bd0-9d3d-3ea41bf8273c",
   "metadata": {},
   "source": [
    "## Questão 1: Phineas e Ferb estão em mais uma aventura científica! 🧪🔍\n",
    "Dessa vez, eles precisam descobrir a verdadeira temperatura ambiente usando três termômetros que podem errar em até 2 graus para mais ou para menos!\n",
    "\n",
    "Eles observam os seguintes valores nos termômetros:\n",
    "\n",
    "Um termômetro marca 7°C 🌡️\n",
    "Outro marca 9°C 🌡️\n",
    "O último marca 10°C 🌡️\n",
    "Mas será que esses valores são exatos? 🤔 Cada termômetro pode estar desviando até ±2°C do real!\n",
    "\n",
    "Agora, cabe a Phineas, Ferb e você descobrir: qual é o menor intervalo possível onde a temperatura verdadeira pode estar? 🚀🔥"
   ]
  },
  {
   "cell_type": "markdown",
   "id": "3cb0c904-4bab-44f5-a441-b065d28b7da4",
   "metadata": {},
   "source": [
    "Responda o intervalo e como chegar nesse resultado. "
   ]
  },
  {
   "cell_type": "code",
   "execution_count": null,
   "id": "2fd91da6-acd9-4b38-a473-13126edf4a98",
   "metadata": {},
   "outputs": [],
   "source": [
    "# Sua resposta aqui\n"
   ]
  },
  {
   "cell_type": "markdown",
   "id": "bd11fbcf-460c-446c-a4d7-9152ee7871df",
   "metadata": {},
   "source": [
    "**Gabarito**\n",
    "\n",
    "Sabemos que os termômetros podem errar até 2°C para mais ou para menos, então precisamos descobrir o intervalo mais preciso possível para a temperatura real.\n",
    "\n",
    "Os três termômetros indicam: 7°C, 9°C e 10°C. Mas como cada um pode variar em ±2°C, analisamos os extremos:\n",
    "\n",
    "O termômetro que marca 7°C pode estar medindo algo entre 5°C e 9°C. Isso significa que a temperatura real não pode ser maior que 9°C, ou o termômetro que marcou 7°C estaria fora do seu erro máximo.\n",
    "O termômetro que marca 10°C pode estar entre 8°C e 12°C. Então, a temperatura real não pode ser menor que 8°C, senão esse termômetro estaria errando além do permitido.\n",
    "Assim, o menor intervalo possível onde a temperatura verdadeira pode estar é entre 8°C e 9°C. ✅"
   ]
  },
  {
   "cell_type": "markdown",
   "id": "7e212f3d-5d52-4d90-853c-c48bf922ee9c",
   "metadata": {},
   "source": [
    "## Questão 2: 🚨 Candace em apuros! 🚨\n",
    "\n",
    "Candace está em uma sala de aula e precisa resolver um enigma sobre a disposição dos alunos. Na sala, há 5 fileiras de cadeiras, e 5 crianças estão sentadas uma atrás da outra. A ordem de assento é a seguinte:\n",
    "\n",
    "Phineas está sentado atrás de Ferb, mas à frente de Buford.\n",
    "Ferb está sentado atrás de Isabella.\n",
    "Baljeet está sentado à frente de Isabella.\n",
    "A missão de Candace é descobrir qual é a ordem dos alunos, do primeiro ao último na fila! 🧑‍🏫\n",
    "\n",
    "Qual é a ordem em que eles estão sentados, da primeira fileira até a última?"
   ]
  },
  {
   "cell_type": "code",
   "execution_count": null,
   "id": "16c896e0-635c-465e-9392-bfd728f437b6",
   "metadata": {},
   "outputs": [],
   "source": [
    "# Sua resposta aqui\n"
   ]
  },
  {
   "cell_type": "markdown",
   "id": "27c5a8d2-136d-45c9-bd54-45fb8d688b34",
   "metadata": {},
   "source": [
    "**Gabarito**\n",
    "\n",
    "A ordem correta dos alunos, da primeira à última fileira, é:\n",
    "\n",
    "Baljeet\n",
    "Isabella\n",
    "Ferb\n",
    "Phineas\n",
    "Buford"
   ]
  },
  {
   "cell_type": "markdown",
   "id": "50737764-a047-46d7-8466-48af065aea63",
   "metadata": {},
   "source": [
    "## Questão 3: 🎭 O novo plano do Dr. Doofenshmirtz! 🎭\n",
    "\n",
    "Dessa vez, Doofenshmirtz criou um Inator Secreto de Codificação de Datas para descobrir a data de nascimento do Agente P! 🦆💥 Ele bolou um sistema em que:  \n",
    "\n",
    "- AB representa os algarismos do dia de nascimento.  \n",
    "- CD representa os algarismos do mês de nascimento.  \n",
    "\n",
    "Por exemplo, para alguém nascido em 30 de julho, o código seria:  \n",
    "- A = 3  \n",
    "- B = 0  \n",
    "- C = 0  \n",
    "- D = 7  \n",
    "\n",
    "Agora, Doofenshmirtz encontrou uma pessoa cujo código atende à seguinte condição:  \n",
    "\n",
    "🔢 A + B + C + D = 20\n",
    "\n",
    "E ele precisa descobrir qual é o mês de nascimento dessa pessoa!  \n",
    "\n",
    "Mas antes que ele termine o cálculo... Perry, o Ornitorrinco, aparece para atrapalhar seus planos! 🦆✨  \n",
    "\n",
    "Qual é o mês de nascimento dessa pessoa antes que o plano do Doofenshmirtz vá pelos ares?! 💥😱"
   ]
  },
  {
   "cell_type": "code",
   "execution_count": null,
   "id": "db95480f-79b4-4ff6-8eb9-53dc0fe731b8",
   "metadata": {},
   "outputs": [],
   "source": [
    "# Sua resposta aqui\n"
   ]
  },
  {
   "cell_type": "markdown",
   "id": "189828c4-ac5f-4eda-8d67-711b53011f1c",
   "metadata": {},
   "source": [
    "**Gabarito**\n",
    "\n",
    "Vamos analisar o que acontece:\n",
    "\n",
    "A soma dos algarismos para o dia do mês varia de 1 a 11. Por exemplo:\n",
    "\n",
    "01 = 0 + 1 = 1\n",
    "\n",
    "02 = 0 + 2 = 2\n",
    "\n",
    "…\n",
    "\n",
    "29 = 2 + 9 = 11 (essa é a maior soma para o dia).\n",
    "\n",
    "30 = 3 + 0 = 3\n",
    "\n",
    "31 = 3 + 1 = 4\n",
    "\n",
    "A soma dos algarismos para o mês varia de 1 a 9. Por exemplo:\n",
    "\n",
    "janeiro: 01 = 0 + 1 = 1\n",
    "\n",
    "fevereiro: 02 = 0 + 2 = 2\n",
    "\n",
    "…\n",
    "\n",
    "setembro: 09 = 0 + 9 = 9 (essa é a maior soma para o mês).\n",
    "\n",
    "outubro: 10 = 1 + 0 = 1\n",
    "\n",
    "novembro: 11 = 1 + 1 = 2\n",
    "\n",
    "dezembro: 12 = 1 + 2 = 3\n",
    "\n",
    "Agora, o Doutor Doofenshmirtz percebe que a única combinação possível para que a soma de A + B + C + D seja 20 é quando a soma dos algarismos do dia é 11 (que acontece no dia 29) e a soma do mês é 9 (que acontece em setembro).\n",
    "\n",
    "Portanto, a data de nascimento dessa pessoa é no dia 29 de setembro! 😱"
   ]
  },
  {
   "cell_type": "markdown",
   "id": "46625505-74d6-4893-ad5e-3f2574f65342",
   "metadata": {},
   "source": [
    "## Questão 4: 🎭 O Doutor Doofenshmirtz está de volta com mais um plano! 🎭\n",
    "\n",
    "Agora, ele quer confundir Perry, o Ornitorrinco, usando Phineas e Ferb na fila! O Doutor Doofenshmirtz observa que:\n",
    "\n",
    "Phineas está na 7ª posição a partir da esquerda, e\n",
    "Ferb está na 12ª posição a partir da direita.\n",
    "Doofenshmirtz então faz um experimento e troca as posições deles. Agora, Phineas passa a ser o 22º da esquerda.\n",
    "\n",
    "Quantos meninos há ao todo na fila?\n",
    "\n",
    "Será que Perry vai conseguir resolver isso antes de Doofenshmirtz colocar seu plano em prática? 🦆💥"
   ]
  },
  {
   "cell_type": "code",
   "execution_count": null,
   "id": "7bee39bc-7403-4619-a02d-8e066388844d",
   "metadata": {},
   "outputs": [],
   "source": [
    "# Sua resposta aqui"
   ]
  },
  {
   "cell_type": "markdown",
   "id": "b6404235-86e0-4a69-8ce3-303baf59d738",
   "metadata": {},
   "source": [
    "**Gabarito**\n",
    "\n",
    "Sabemos que:\n",
    "\n",
    "Phineas está na 7ª posição a partir da esquerda.\n",
    "\n",
    "Ferb está na 12ª posição a partir da direita.\n",
    "\n",
    "Quando eles trocam de posição, Phineas se torna o 22º da esquerda.\n",
    "\n",
    "Agora, vamos usar essas informações para encontrar o número total de meninos na fila, denotado por N.\n",
    "\n",
    "Passo a Passo:\n",
    "Phineas está na 7ª posição a partir da esquerda e também está na posição 22ª a partir da esquerda após a troca. Isso significa que, ao trocar de posição, o total de meninos na fila é dado pela soma da posição de Phineas (22) e a posição de Ferb (12), subtraindo 1, porque as posições de Phineas e Ferb devem se somar para formar o número total de meninos.\n",
    "\n",
    "Logo:\n",
    "\n",
    "𝑁 = 22 + 12 − 1 = 33\n",
    "\n",
    "N=22+12−1=33\n",
    "\n",
    "Portanto, o número total de meninos na fila é 33."
   ]
  }
 ],
 "metadata": {
  "kernelspec": {
   "display_name": "Python 3 (ipykernel)",
   "language": "python",
   "name": "python3"
  },
  "language_info": {
   "codemirror_mode": {
    "name": "ipython",
    "version": 3
   },
   "file_extension": ".py",
   "mimetype": "text/x-python",
   "name": "python",
   "nbconvert_exporter": "python",
   "pygments_lexer": "ipython3",
   "version": "3.11.8"
  }
 },
 "nbformat": 4,
 "nbformat_minor": 5
}
